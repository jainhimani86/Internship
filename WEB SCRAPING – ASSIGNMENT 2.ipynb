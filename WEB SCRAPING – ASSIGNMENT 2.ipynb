{
 "cells": [
  {
   "cell_type": "code",
   "execution_count": 1,
   "id": "f44215ac",
   "metadata": {},
   "outputs": [
    {
     "name": "stdout",
     "output_type": "stream",
     "text": [
      "Collecting selenium\n",
      "  Obtaining dependency information for selenium from https://files.pythonhosted.org/packages/3f/fd/c2e7bb547b5b96c7bd536b4a80c4564b7ce5cd38d10095fbba8648996ab9/selenium-4.18.1-py3-none-any.whl.metadata\n",
      "  Downloading selenium-4.18.1-py3-none-any.whl.metadata (6.9 kB)\n",
      "Requirement already satisfied: urllib3[socks]<3,>=1.26 in c:\\users\\siddh\\anaconda3\\lib\\site-packages (from selenium) (1.26.16)\n",
      "Collecting trio~=0.17 (from selenium)\n",
      "  Obtaining dependency information for trio~=0.17 from https://files.pythonhosted.org/packages/14/fb/9299cf74953f473a15accfdbe2c15218e766bae8c796f2567c83bae03e98/trio-0.24.0-py3-none-any.whl.metadata\n",
      "  Downloading trio-0.24.0-py3-none-any.whl.metadata (4.9 kB)\n",
      "Collecting trio-websocket~=0.9 (from selenium)\n",
      "  Obtaining dependency information for trio-websocket~=0.9 from https://files.pythonhosted.org/packages/48/be/a9ae5f50cad5b6f85bd2574c2c923730098530096e170c1ce7452394d7aa/trio_websocket-0.11.1-py3-none-any.whl.metadata\n",
      "  Downloading trio_websocket-0.11.1-py3-none-any.whl.metadata (4.7 kB)\n",
      "Requirement already satisfied: certifi>=2021.10.8 in c:\\users\\siddh\\anaconda3\\lib\\site-packages (from selenium) (2023.7.22)\n",
      "Collecting typing_extensions>=4.9.0 (from selenium)\n",
      "  Obtaining dependency information for typing_extensions>=4.9.0 from https://files.pythonhosted.org/packages/f9/de/dc04a3ea60b22624b51c703a84bbe0184abcd1d0b9bc8074b5d6b7ab90bb/typing_extensions-4.10.0-py3-none-any.whl.metadata\n",
      "  Downloading typing_extensions-4.10.0-py3-none-any.whl.metadata (3.0 kB)\n",
      "Requirement already satisfied: attrs>=20.1.0 in c:\\users\\siddh\\anaconda3\\lib\\site-packages (from trio~=0.17->selenium) (22.1.0)\n",
      "Requirement already satisfied: sortedcontainers in c:\\users\\siddh\\anaconda3\\lib\\site-packages (from trio~=0.17->selenium) (2.4.0)\n",
      "Requirement already satisfied: idna in c:\\users\\siddh\\anaconda3\\lib\\site-packages (from trio~=0.17->selenium) (3.4)\n",
      "Collecting outcome (from trio~=0.17->selenium)\n",
      "  Obtaining dependency information for outcome from https://files.pythonhosted.org/packages/55/8b/5ab7257531a5d830fc8000c476e63c935488d74609b50f9384a643ec0a62/outcome-1.3.0.post0-py2.py3-none-any.whl.metadata\n",
      "  Downloading outcome-1.3.0.post0-py2.py3-none-any.whl.metadata (2.6 kB)\n",
      "Collecting sniffio>=1.3.0 (from trio~=0.17->selenium)\n",
      "  Obtaining dependency information for sniffio>=1.3.0 from https://files.pythonhosted.org/packages/e9/44/75a9c9421471a6c4805dbf2356f7c181a29c1879239abab1ea2cc8f38b40/sniffio-1.3.1-py3-none-any.whl.metadata\n",
      "  Downloading sniffio-1.3.1-py3-none-any.whl.metadata (3.9 kB)\n",
      "Requirement already satisfied: cffi>=1.14 in c:\\users\\siddh\\anaconda3\\lib\\site-packages (from trio~=0.17->selenium) (1.15.1)\n",
      "Collecting wsproto>=0.14 (from trio-websocket~=0.9->selenium)\n",
      "  Obtaining dependency information for wsproto>=0.14 from https://files.pythonhosted.org/packages/78/58/e860788190eba3bcce367f74d29c4675466ce8dddfba85f7827588416f01/wsproto-1.2.0-py3-none-any.whl.metadata\n",
      "  Downloading wsproto-1.2.0-py3-none-any.whl.metadata (5.6 kB)\n",
      "Requirement already satisfied: PySocks!=1.5.7,<2.0,>=1.5.6 in c:\\users\\siddh\\anaconda3\\lib\\site-packages (from urllib3[socks]<3,>=1.26->selenium) (1.7.1)\n",
      "Requirement already satisfied: pycparser in c:\\users\\siddh\\anaconda3\\lib\\site-packages (from cffi>=1.14->trio~=0.17->selenium) (2.21)\n",
      "Collecting h11<1,>=0.9.0 (from wsproto>=0.14->trio-websocket~=0.9->selenium)\n",
      "  Obtaining dependency information for h11<1,>=0.9.0 from https://files.pythonhosted.org/packages/95/04/ff642e65ad6b90db43e668d70ffb6736436c7ce41fcc549f4e9472234127/h11-0.14.0-py3-none-any.whl.metadata\n",
      "  Downloading h11-0.14.0-py3-none-any.whl.metadata (8.2 kB)\n",
      "Downloading selenium-4.18.1-py3-none-any.whl (10.0 MB)\n",
      "   ---------------------------------------- 0.0/10.0 MB ? eta -:--:--\n",
      "   ---------------------------------------- 0.1/10.0 MB 1.7 MB/s eta 0:00:07\n",
      "    --------------------------------------- 0.2/10.0 MB 3.6 MB/s eta 0:00:03\n",
      "   -- ------------------------------------- 0.6/10.0 MB 4.3 MB/s eta 0:00:03\n",
      "   --- ------------------------------------ 1.0/10.0 MB 5.7 MB/s eta 0:00:02\n",
      "   ----- ---------------------------------- 1.5/10.0 MB 6.8 MB/s eta 0:00:02\n",
      "   ------- -------------------------------- 1.8/10.0 MB 6.8 MB/s eta 0:00:02\n",
      "   --------- ------------------------------ 2.3/10.0 MB 7.4 MB/s eta 0:00:02\n",
      "   ---------- ----------------------------- 2.7/10.0 MB 7.2 MB/s eta 0:00:02\n",
      "   ------------- -------------------------- 3.3/10.0 MB 7.7 MB/s eta 0:00:01\n",
      "   -------------- ------------------------- 3.7/10.0 MB 8.1 MB/s eta 0:00:01\n",
      "   --------------- ------------------------ 3.8/10.0 MB 7.3 MB/s eta 0:00:01\n",
      "   --------------- ------------------------ 3.8/10.0 MB 7.3 MB/s eta 0:00:01\n",
      "   --------------- ------------------------ 3.8/10.0 MB 7.3 MB/s eta 0:00:01\n",
      "   --------------- ------------------------ 3.8/10.0 MB 7.3 MB/s eta 0:00:01\n",
      "   --------------- ------------------------ 3.8/10.0 MB 7.3 MB/s eta 0:00:01\n",
      "   --------------- ------------------------ 3.9/10.0 MB 5.4 MB/s eta 0:00:02\n",
      "   ------------------ --------------------- 4.7/10.0 MB 5.9 MB/s eta 0:00:01\n",
      "   -------------------- ------------------- 5.1/10.0 MB 5.9 MB/s eta 0:00:01\n",
      "   --------------------- ------------------ 5.3/10.0 MB 5.9 MB/s eta 0:00:01\n",
      "   ---------------------- ----------------- 5.7/10.0 MB 6.1 MB/s eta 0:00:01\n",
      "   ----------------------- ---------------- 6.0/10.0 MB 6.1 MB/s eta 0:00:01\n",
      "   -------------------------- ------------- 6.5/10.0 MB 6.3 MB/s eta 0:00:01\n",
      "   --------------------------- ------------ 6.8/10.0 MB 6.2 MB/s eta 0:00:01\n",
      "   ---------------------------- ----------- 7.2/10.0 MB 6.4 MB/s eta 0:00:01\n",
      "   ------------------------------ --------- 7.6/10.0 MB 6.6 MB/s eta 0:00:01\n",
      "   ------------------------------- -------- 7.9/10.0 MB 6.5 MB/s eta 0:00:01\n",
      "   --------------------------------- ------ 8.4/10.0 MB 6.6 MB/s eta 0:00:01\n",
      "   ----------------------------------- ---- 8.9/10.0 MB 6.7 MB/s eta 0:00:01\n",
      "   ------------------------------------- -- 9.4/10.0 MB 6.9 MB/s eta 0:00:01\n",
      "   ---------------------------------------  9.8/10.0 MB 6.9 MB/s eta 0:00:01\n",
      "   ---------------------------------------  10.0/10.0 MB 7.0 MB/s eta 0:00:01\n",
      "   ---------------------------------------- 10.0/10.0 MB 6.9 MB/s eta 0:00:00\n",
      "Downloading trio-0.24.0-py3-none-any.whl (460 kB)\n",
      "   ---------------------------------------- 0.0/460.2 kB ? eta -:--:--\n",
      "   --------------------------------- ----- 399.4/460.2 kB 12.6 MB/s eta 0:00:01\n",
      "   ---------------------------------------- 460.2/460.2 kB 9.8 MB/s eta 0:00:00\n",
      "Downloading trio_websocket-0.11.1-py3-none-any.whl (17 kB)\n",
      "Downloading typing_extensions-4.10.0-py3-none-any.whl (33 kB)\n",
      "Downloading sniffio-1.3.1-py3-none-any.whl (10 kB)\n",
      "Downloading wsproto-1.2.0-py3-none-any.whl (24 kB)\n",
      "Downloading outcome-1.3.0.post0-py2.py3-none-any.whl (10 kB)\n",
      "Downloading h11-0.14.0-py3-none-any.whl (58 kB)\n",
      "   ---------------------------------------- 0.0/58.3 kB ? eta -:--:--\n",
      "   ---------------------------------------- 58.3/58.3 kB ? eta 0:00:00\n",
      "Installing collected packages: typing_extensions, sniffio, outcome, h11, wsproto, trio, trio-websocket, selenium\n",
      "  Attempting uninstall: typing_extensions\n",
      "    Found existing installation: typing_extensions 4.7.1\n",
      "    Uninstalling typing_extensions-4.7.1:\n",
      "      Successfully uninstalled typing_extensions-4.7.1\n",
      "  Attempting uninstall: sniffio\n",
      "    Found existing installation: sniffio 1.2.0\n",
      "    Uninstalling sniffio-1.2.0:\n",
      "      Successfully uninstalled sniffio-1.2.0\n",
      "Successfully installed h11-0.14.0 outcome-1.3.0.post0 selenium-4.18.1 sniffio-1.3.1 trio-0.24.0 trio-websocket-0.11.1 typing_extensions-4.10.0 wsproto-1.2.0\n"
     ]
    }
   ],
   "source": [
    "!pip install selenium"
   ]
  },
  {
   "cell_type": "code",
   "execution_count": 2,
   "id": "c569f750",
   "metadata": {},
   "outputs": [],
   "source": [
    "import selenium\n",
    "import pandas as pd\n",
    "from selenium import webdriver\n",
    "import warnings\n",
    "warnings.filterwarnings('ignore')\n",
    "from selenium.webdriver.common.by import By"
   ]
  },
  {
   "cell_type": "code",
   "execution_count": 100,
   "id": "707430f6",
   "metadata": {},
   "outputs": [],
   "source": [
    "driver=webdriver.Chrome()"
   ]
  },
  {
   "cell_type": "markdown",
   "id": "f9006a3d",
   "metadata": {},
   "source": [
    "Solution 1"
   ]
  },
  {
   "cell_type": "code",
   "execution_count": 101,
   "id": "0891bbd0",
   "metadata": {},
   "outputs": [],
   "source": [
    "driver.get('https://www.shine.com/')"
   ]
  },
  {
   "cell_type": "code",
   "execution_count": 102,
   "id": "b3b88db7",
   "metadata": {},
   "outputs": [],
   "source": [
    "jobtitle=driver.find_element(By.CLASS_NAME,\"input\")\n",
    "jobtitle.send_keys(\"Data Analyst\")"
   ]
  },
  {
   "cell_type": "code",
   "execution_count": 103,
   "id": "e5436be7",
   "metadata": {},
   "outputs": [],
   "source": [
    "search=driver.find_element(By.CLASS_NAME,\"iconH-zoom-white\")\n",
    "search.click()"
   ]
  },
  {
   "cell_type": "code",
   "execution_count": 104,
   "id": "10728704",
   "metadata": {},
   "outputs": [],
   "source": [
    "title=driver.find_element(By.CLASS_NAME,\"form-control\")\n",
    "title.send_keys(\"Data Analyst\")"
   ]
  },
  {
   "cell_type": "code",
   "execution_count": 105,
   "id": "5d843c03",
   "metadata": {},
   "outputs": [],
   "source": [
    "location=driver.find_element(By.XPATH,\"/html/body/div/div[4]/div/div[2]/div[2]/div/form/div/div[1]/ul/li[2]/div/input\")\n",
    "location.send_keys(\"Bangalore\")"
   ]
  },
  {
   "cell_type": "code",
   "execution_count": 106,
   "id": "20188ba0",
   "metadata": {},
   "outputs": [],
   "source": [
    "search=driver.find_element(By.XPATH,\"/html/body/div/div[4]/div/div[2]/div[2]/div/form/div/div[2]/div/button\")\n",
    "search.click()"
   ]
  },
  {
   "cell_type": "code",
   "execution_count": 113,
   "id": "3e727e53",
   "metadata": {},
   "outputs": [],
   "source": [
    "companyname=[]\n",
    "company_tag=driver.find_elements(By.XPATH,'//div[@class=\"jobCard_jobCard_cName__mYnow\"]/span')\n",
    "for i in company_tag:\n",
    "    companyname.append(i.text)\n",
    "\n",
    "\n"
   ]
  },
  {
   "cell_type": "code",
   "execution_count": 114,
   "id": "5c371acc",
   "metadata": {},
   "outputs": [
    {
     "name": "stdout",
     "output_type": "stream",
     "text": [
      "4 0\n"
     ]
    }
   ],
   "source": [
    "print(len(companyname),len(yearofexperience))"
   ]
  },
  {
   "cell_type": "code",
   "execution_count": 115,
   "id": "d04fad4a",
   "metadata": {},
   "outputs": [],
   "source": [
    "df=pd.DataFrame({'Company name':companyname})"
   ]
  },
  {
   "cell_type": "code",
   "execution_count": 116,
   "id": "5ee46183",
   "metadata": {},
   "outputs": [
    {
     "data": {
      "text/html": [
       "<div>\n",
       "<style scoped>\n",
       "    .dataframe tbody tr th:only-of-type {\n",
       "        vertical-align: middle;\n",
       "    }\n",
       "\n",
       "    .dataframe tbody tr th {\n",
       "        vertical-align: top;\n",
       "    }\n",
       "\n",
       "    .dataframe thead th {\n",
       "        text-align: right;\n",
       "    }\n",
       "</style>\n",
       "<table border=\"1\" class=\"dataframe\">\n",
       "  <thead>\n",
       "    <tr style=\"text-align: right;\">\n",
       "      <th></th>\n",
       "      <th>Company name</th>\n",
       "    </tr>\n",
       "  </thead>\n",
       "  <tbody>\n",
       "    <tr>\n",
       "      <th>0</th>\n",
       "      <td>simplilearn</td>\n",
       "    </tr>\n",
       "    <tr>\n",
       "      <th>1</th>\n",
       "      <td>highradius</td>\n",
       "    </tr>\n",
       "    <tr>\n",
       "      <th>2</th>\n",
       "      <td>skill hire</td>\n",
       "    </tr>\n",
       "    <tr>\n",
       "      <th>3</th>\n",
       "      <td>adrsta</td>\n",
       "    </tr>\n",
       "  </tbody>\n",
       "</table>\n",
       "</div>"
      ],
      "text/plain": [
       "  Company name\n",
       "0  simplilearn\n",
       "1   highradius\n",
       "2   skill hire\n",
       "3       adrsta"
      ]
     },
     "execution_count": 116,
     "metadata": {},
     "output_type": "execute_result"
    }
   ],
   "source": [
    "df"
   ]
  },
  {
   "cell_type": "code",
   "execution_count": null,
   "id": "8c56fa67",
   "metadata": {},
   "outputs": [],
   "source": []
  },
  {
   "cell_type": "code",
   "execution_count": null,
   "id": "094b992f",
   "metadata": {},
   "outputs": [],
   "source": []
  },
  {
   "cell_type": "markdown",
   "id": "f1c19bf8",
   "metadata": {},
   "source": [
    "Solution 2"
   ]
  },
  {
   "cell_type": "code",
   "execution_count": 90,
   "id": "aec108a5",
   "metadata": {},
   "outputs": [],
   "source": [
    "driver=webdriver.Chrome()\n",
    "driver.get('https://www.naukri.com/')"
   ]
  },
  {
   "cell_type": "code",
   "execution_count": 91,
   "id": "e285d256",
   "metadata": {},
   "outputs": [],
   "source": [
    "jobtitle=driver.find_element(By.CLASS_NAME,\"suggestor-input\")\n",
    "jobtitle.send_keys(\"Data Analyst\")"
   ]
  },
  {
   "cell_type": "code",
   "execution_count": 92,
   "id": "66f0710c",
   "metadata": {},
   "outputs": [],
   "source": [
    "location=driver.find_element(By.XPATH,'/html/body/div[1]/div[7]/div/div/div[5]/div/div/div/div[1]/div/input')\n",
    "location.send_keys(\"Bangalore\")"
   ]
  },
  {
   "cell_type": "code",
   "execution_count": 93,
   "id": "96c8521d",
   "metadata": {},
   "outputs": [],
   "source": [
    "search=driver.find_element(By.CLASS_NAME,\"qsbSubmit\")\n",
    "search.click()"
   ]
  },
  {
   "cell_type": "code",
   "execution_count": 94,
   "id": "6ebdd700",
   "metadata": {},
   "outputs": [],
   "source": [
    "jobtitle=[]\n",
    "joblocation=[]\n",
    "companyname=[]\n",
    "experience=[]\n"
   ]
  },
  {
   "cell_type": "code",
   "execution_count": 95,
   "id": "9cf470f3",
   "metadata": {},
   "outputs": [],
   "source": [
    "titletag=driver.find_elements(By.XPATH,'//div[@class=\"cust-job-tuple layout-wrapper lay-2 sjw__tuple \"]/div/a')\n",
    "for i in titletag:\n",
    "    jobtitle.append(i.text)\n",
    "\n",
    "locationtag=driver.find_elements(By.XPATH,'//span[@class=\"locWdth\"]')\n",
    "for i in locationtag:\n",
    "    joblocation.append(i.text)\n",
    "\n",
    "#companytag=driver.find_elements(By.XPATH,'//a[@class=\" comp-name mw-25\"]')\n",
    "#for i in companytag:\n",
    "    #companyname.append(i.text)\n",
    "\n",
    "experiencetag=driver.find_elements(By.XPATH,'//span[@class=\"expwdth\"]')\n",
    "for i in experiencetag:\n",
    "    experience.append(i.text)"
   ]
  },
  {
   "cell_type": "code",
   "execution_count": 97,
   "id": "3911dc6d",
   "metadata": {},
   "outputs": [
    {
     "name": "stdout",
     "output_type": "stream",
     "text": [
      "20 20 20\n"
     ]
    }
   ],
   "source": [
    "print(len(jobtitle),len(joblocation),len(experience))"
   ]
  },
  {
   "cell_type": "code",
   "execution_count": 98,
   "id": "9c9e50b5",
   "metadata": {},
   "outputs": [
    {
     "data": {
      "text/html": [
       "<div>\n",
       "<style scoped>\n",
       "    .dataframe tbody tr th:only-of-type {\n",
       "        vertical-align: middle;\n",
       "    }\n",
       "\n",
       "    .dataframe tbody tr th {\n",
       "        vertical-align: top;\n",
       "    }\n",
       "\n",
       "    .dataframe thead th {\n",
       "        text-align: right;\n",
       "    }\n",
       "</style>\n",
       "<table border=\"1\" class=\"dataframe\">\n",
       "  <thead>\n",
       "    <tr style=\"text-align: right;\">\n",
       "      <th></th>\n",
       "      <th>Title</th>\n",
       "      <th>Location</th>\n",
       "      <th>Experience</th>\n",
       "    </tr>\n",
       "  </thead>\n",
       "  <tbody>\n",
       "    <tr>\n",
       "      <th>0</th>\n",
       "      <td>Data Analyst</td>\n",
       "      <td>Kolkata, Mumbai, New Delhi, Hyderabad, Pune, C...</td>\n",
       "      <td>2-4 Yrs</td>\n",
       "    </tr>\n",
       "    <tr>\n",
       "      <th>1</th>\n",
       "      <td>Data Analyst</td>\n",
       "      <td>Bengaluru</td>\n",
       "      <td>2-4 Yrs</td>\n",
       "    </tr>\n",
       "    <tr>\n",
       "      <th>2</th>\n",
       "      <td>Online Data Analyst</td>\n",
       "      <td>Kolkata, Mumbai, New Delhi, Hyderabad, Pune, C...</td>\n",
       "      <td>1-4 Yrs</td>\n",
       "    </tr>\n",
       "    <tr>\n",
       "      <th>3</th>\n",
       "      <td>Data Analyst</td>\n",
       "      <td>Mumbai, Bengaluru</td>\n",
       "      <td>1-4 Yrs</td>\n",
       "    </tr>\n",
       "    <tr>\n",
       "      <th>4</th>\n",
       "      <td>Data Analyst (automotive)</td>\n",
       "      <td>Bangalore/Bengaluru(Domlur)</td>\n",
       "      <td>5-6 Yrs</td>\n",
       "    </tr>\n",
       "    <tr>\n",
       "      <th>5</th>\n",
       "      <td>Data Analyst</td>\n",
       "      <td>Remote</td>\n",
       "      <td>5-10 Yrs</td>\n",
       "    </tr>\n",
       "    <tr>\n",
       "      <th>6</th>\n",
       "      <td>Data Analyst</td>\n",
       "      <td>Hybrid - Bangalore Rural, Karnataka, Hyderabad...</td>\n",
       "      <td>5-10 Yrs</td>\n",
       "    </tr>\n",
       "    <tr>\n",
       "      <th>7</th>\n",
       "      <td>Data Analyst</td>\n",
       "      <td>Bengaluru(4th Phase JP Nagar)</td>\n",
       "      <td>1-5 Yrs</td>\n",
       "    </tr>\n",
       "    <tr>\n",
       "      <th>8</th>\n",
       "      <td>Job opportunity _ Data Analyst</td>\n",
       "      <td>Bangalore Rural, Karnataka, Hyderabad, Telanga...</td>\n",
       "      <td>6-10 Yrs</td>\n",
       "    </tr>\n",
       "    <tr>\n",
       "      <th>9</th>\n",
       "      <td>Data Analyst</td>\n",
       "      <td>Hybrid - Bengaluru</td>\n",
       "      <td>5-10 Yrs</td>\n",
       "    </tr>\n",
       "    <tr>\n",
       "      <th>10</th>\n",
       "      <td>ETL - Data Analyst</td>\n",
       "      <td>Bengaluru</td>\n",
       "      <td>5-10 Yrs</td>\n",
       "    </tr>\n",
       "    <tr>\n",
       "      <th>11</th>\n",
       "      <td>Intelliswift is hiring For a Data Analyst Bang...</td>\n",
       "      <td>Hybrid - Bengaluru</td>\n",
       "      <td>8-12 Yrs</td>\n",
       "    </tr>\n",
       "    <tr>\n",
       "      <th>12</th>\n",
       "      <td>Data Analyst</td>\n",
       "      <td>Hyderabad, Bengaluru, Delhi / NCR</td>\n",
       "      <td>0-5 Yrs</td>\n",
       "    </tr>\n",
       "    <tr>\n",
       "      <th>13</th>\n",
       "      <td>Data Services Analyst III</td>\n",
       "      <td>Bengaluru</td>\n",
       "      <td>4-8 Yrs</td>\n",
       "    </tr>\n",
       "    <tr>\n",
       "      <th>14</th>\n",
       "      <td>AWS Data Engineer/Data Analyst - Need Immediat...</td>\n",
       "      <td>Bangalore Rural, Karnataka, Hyderabad, Telangana</td>\n",
       "      <td>5-8 Yrs</td>\n",
       "    </tr>\n",
       "    <tr>\n",
       "      <th>15</th>\n",
       "      <td>Data Analyst</td>\n",
       "      <td>Hyderabad, Bengaluru</td>\n",
       "      <td>6-10 Yrs</td>\n",
       "    </tr>\n",
       "    <tr>\n",
       "      <th>16</th>\n",
       "      <td>Data Analyst</td>\n",
       "      <td>Hyderabad, Bengaluru, Delhi / NCR</td>\n",
       "      <td>4-9 Yrs</td>\n",
       "    </tr>\n",
       "    <tr>\n",
       "      <th>17</th>\n",
       "      <td>Data Analyst</td>\n",
       "      <td>Bengaluru</td>\n",
       "      <td>4-6 Yrs</td>\n",
       "    </tr>\n",
       "    <tr>\n",
       "      <th>18</th>\n",
       "      <td>Data Analyst</td>\n",
       "      <td>Bengaluru</td>\n",
       "      <td>3-5 Yrs</td>\n",
       "    </tr>\n",
       "    <tr>\n",
       "      <th>19</th>\n",
       "      <td>Platform Data Analyst</td>\n",
       "      <td>Bengaluru</td>\n",
       "      <td>2-4 Yrs</td>\n",
       "    </tr>\n",
       "  </tbody>\n",
       "</table>\n",
       "</div>"
      ],
      "text/plain": [
       "                                                Title  \\\n",
       "0                                        Data Analyst   \n",
       "1                                        Data Analyst   \n",
       "2                                 Online Data Analyst   \n",
       "3                                        Data Analyst   \n",
       "4                           Data Analyst (automotive)   \n",
       "5                                        Data Analyst   \n",
       "6                                        Data Analyst   \n",
       "7                                        Data Analyst   \n",
       "8                      Job opportunity _ Data Analyst   \n",
       "9                                        Data Analyst   \n",
       "10                                 ETL - Data Analyst   \n",
       "11  Intelliswift is hiring For a Data Analyst Bang...   \n",
       "12                                       Data Analyst   \n",
       "13                          Data Services Analyst III   \n",
       "14  AWS Data Engineer/Data Analyst - Need Immediat...   \n",
       "15                                       Data Analyst   \n",
       "16                                       Data Analyst   \n",
       "17                                       Data Analyst   \n",
       "18                                       Data Analyst   \n",
       "19                              Platform Data Analyst   \n",
       "\n",
       "                                             Location Experience  \n",
       "0   Kolkata, Mumbai, New Delhi, Hyderabad, Pune, C...    2-4 Yrs  \n",
       "1                                           Bengaluru    2-4 Yrs  \n",
       "2   Kolkata, Mumbai, New Delhi, Hyderabad, Pune, C...    1-4 Yrs  \n",
       "3                                   Mumbai, Bengaluru    1-4 Yrs  \n",
       "4                         Bangalore/Bengaluru(Domlur)    5-6 Yrs  \n",
       "5                                              Remote   5-10 Yrs  \n",
       "6   Hybrid - Bangalore Rural, Karnataka, Hyderabad...   5-10 Yrs  \n",
       "7                       Bengaluru(4th Phase JP Nagar)    1-5 Yrs  \n",
       "8   Bangalore Rural, Karnataka, Hyderabad, Telanga...   6-10 Yrs  \n",
       "9                                  Hybrid - Bengaluru   5-10 Yrs  \n",
       "10                                          Bengaluru   5-10 Yrs  \n",
       "11                                 Hybrid - Bengaluru   8-12 Yrs  \n",
       "12                  Hyderabad, Bengaluru, Delhi / NCR    0-5 Yrs  \n",
       "13                                          Bengaluru    4-8 Yrs  \n",
       "14   Bangalore Rural, Karnataka, Hyderabad, Telangana    5-8 Yrs  \n",
       "15                               Hyderabad, Bengaluru   6-10 Yrs  \n",
       "16                  Hyderabad, Bengaluru, Delhi / NCR    4-9 Yrs  \n",
       "17                                          Bengaluru    4-6 Yrs  \n",
       "18                                          Bengaluru    3-5 Yrs  \n",
       "19                                          Bengaluru    2-4 Yrs  "
      ]
     },
     "execution_count": 98,
     "metadata": {},
     "output_type": "execute_result"
    }
   ],
   "source": [
    "df=pd.DataFrame({'Title':jobtitle,'Location':joblocation,'Experience':experience})\n",
    "df"
   ]
  },
  {
   "cell_type": "markdown",
   "id": "0cbcdddb",
   "metadata": {},
   "source": [
    "Solution 3"
   ]
  },
  {
   "cell_type": "code",
   "execution_count": 24,
   "id": "f660e38f",
   "metadata": {},
   "outputs": [],
   "source": [
    "driver=webdriver.Chrome()\n",
    "driver.get('https://www.flipkart.com/')"
   ]
  },
  {
   "cell_type": "code",
   "execution_count": 25,
   "id": "409c00bd",
   "metadata": {},
   "outputs": [],
   "source": [
    "sunglass=driver.find_element(By.CLASS_NAME,\"Pke_EE\")\n",
    "sunglass.send_keys(\"Sunglasses\")"
   ]
  },
  {
   "cell_type": "code",
   "execution_count": 26,
   "id": "bfcd82e8",
   "metadata": {},
   "outputs": [],
   "source": [
    "search1=driver.find_element(By.XPATH,\"/html/body/div[1]/div/div[1]/div/div/div/div/div[1]/div/div[1]/div/div[1]/div[1]/header/div[1]/div[2]/form/div/button\")\n",
    "search1.click()"
   ]
  },
  {
   "cell_type": "code",
   "execution_count": 28,
   "id": "96787918",
   "metadata": {},
   "outputs": [],
   "source": [
    "brandtitle=[]\n"
   ]
  },
  {
   "cell_type": "code",
   "execution_count": 46,
   "id": "95418516",
   "metadata": {},
   "outputs": [
    {
     "ename": "NameError",
     "evalue": "name 'time' is not defined",
     "output_type": "error",
     "traceback": [
      "\u001b[1;31m---------------------------------------------------------------------------\u001b[0m",
      "\u001b[1;31mNameError\u001b[0m                                 Traceback (most recent call last)",
      "Cell \u001b[1;32mIn[46], line 9\u001b[0m\n\u001b[0;32m      7\u001b[0m next_button\u001b[38;5;241m=\u001b[39mdriver\u001b[38;5;241m.\u001b[39mfind_element(By\u001b[38;5;241m.\u001b[39mXPATH,\u001b[38;5;124m\"\u001b[39m\u001b[38;5;124m/html/body/div/div/div[3]/div[1]/div[2]/div[12]/div/div/nav/a[11]\u001b[39m\u001b[38;5;124m\"\u001b[39m)\n\u001b[0;32m      8\u001b[0m next_button\u001b[38;5;241m.\u001b[39mclick()\n\u001b[1;32m----> 9\u001b[0m time\u001b[38;5;241m.\u001b[39msleep(\u001b[38;5;241m3\u001b[39m)\n",
      "\u001b[1;31mNameError\u001b[0m: name 'time' is not defined"
     ]
    }
   ],
   "source": [
    "start=0\n",
    "end=3\n",
    "for page in range(start,end):\n",
    "    brandtag=driver.find_elements(By.XPATH,\"//div[@class='_2WkVRV']\")\n",
    "    for i in brandtag:\n",
    "        brandtitle.append(i.text)\n",
    "    next_button=driver.find_element(By.XPATH,\"/html/body/div/div/div[3]/div[1]/div[2]/div[12]/div/div/nav/a[11]\")\n",
    "    next_button.click()\n",
    "    time.sleep(3)"
   ]
  },
  {
   "cell_type": "code",
   "execution_count": 58,
   "id": "7df68f40",
   "metadata": {},
   "outputs": [],
   "source": [
    "\n",
    "newbrand=brandtitle[0:100]"
   ]
  },
  {
   "cell_type": "code",
   "execution_count": 34,
   "id": "0311553b",
   "metadata": {},
   "outputs": [],
   "source": [
    "productdescription=[]"
   ]
  },
  {
   "cell_type": "code",
   "execution_count": 38,
   "id": "ab02a25c",
   "metadata": {},
   "outputs": [
    {
     "ename": "StaleElementReferenceException",
     "evalue": "Message: stale element reference: stale element not found\n  (Session info: chrome=122.0.6261.95); For documentation on this error, please visit: https://www.selenium.dev/documentation/webdriver/troubleshooting/errors#stale-element-reference-exception\nStacktrace:\n\tGetHandleVerifier [0x00007FF6DD72AD22+56930]\n\t(No symbol) [0x00007FF6DD69F622]\n\t(No symbol) [0x00007FF6DD5542E5]\n\t(No symbol) [0x00007FF6DD559261]\n\t(No symbol) [0x00007FF6DD55B6EB]\n\t(No symbol) [0x00007FF6DD55B7B0]\n\t(No symbol) [0x00007FF6DD594D9B]\n\t(No symbol) [0x00007FF6DD5BBC9A]\n\t(No symbol) [0x00007FF6DD58F09A]\n\t(No symbol) [0x00007FF6DD5BBEB0]\n\t(No symbol) [0x00007FF6DD5D81E2]\n\t(No symbol) [0x00007FF6DD5BBA43]\n\t(No symbol) [0x00007FF6DD58D438]\n\t(No symbol) [0x00007FF6DD58E4D1]\n\tGetHandleVerifier [0x00007FF6DDAA6AAD+3709933]\n\tGetHandleVerifier [0x00007FF6DDAFFFED+4075821]\n\tGetHandleVerifier [0x00007FF6DDAF817F+4043455]\n\tGetHandleVerifier [0x00007FF6DD7C9756+706710]\n\t(No symbol) [0x00007FF6DD6AB8FF]\n\t(No symbol) [0x00007FF6DD6A6AE4]\n\t(No symbol) [0x00007FF6DD6A6C3C]\n\t(No symbol) [0x00007FF6DD6968F4]\n\tBaseThreadInitThunk [0x00007FFFC02D257D+29]\n\tRtlUserThreadStart [0x00007FFFC0A6AA58+40]\n",
     "output_type": "error",
     "traceback": [
      "\u001b[1;31m---------------------------------------------------------------------------\u001b[0m",
      "\u001b[1;31mStaleElementReferenceException\u001b[0m            Traceback (most recent call last)",
      "Cell \u001b[1;32mIn[38], line 6\u001b[0m\n\u001b[0;32m      4\u001b[0m producttag\u001b[38;5;241m=\u001b[39mdriver\u001b[38;5;241m.\u001b[39mfind_elements(By\u001b[38;5;241m.\u001b[39mXPATH,\u001b[38;5;124m\"\u001b[39m\u001b[38;5;124m//a[@class=\u001b[39m\u001b[38;5;124m'\u001b[39m\u001b[38;5;124mIRpwTa\u001b[39m\u001b[38;5;124m'\u001b[39m\u001b[38;5;124m]\u001b[39m\u001b[38;5;124m\"\u001b[39m)\n\u001b[0;32m      5\u001b[0m \u001b[38;5;28;01mfor\u001b[39;00m i \u001b[38;5;129;01min\u001b[39;00m producttag:\n\u001b[1;32m----> 6\u001b[0m     productdescription\u001b[38;5;241m.\u001b[39mappend(i\u001b[38;5;241m.\u001b[39mtext)\n\u001b[0;32m      7\u001b[0m next_button\u001b[38;5;241m=\u001b[39mdriver\u001b[38;5;241m.\u001b[39mfind_element(By\u001b[38;5;241m.\u001b[39mXPATH,\u001b[38;5;124m\"\u001b[39m\u001b[38;5;124m/html/body/div/div/div[3]/div[1]/div[2]/div[12]/div/div/nav/a[11]\u001b[39m\u001b[38;5;124m\"\u001b[39m)\n\u001b[0;32m      8\u001b[0m next_button\u001b[38;5;241m.\u001b[39mclick()\n",
      "File \u001b[1;32m~\\anaconda3\\Lib\\site-packages\\selenium\\webdriver\\remote\\webelement.py:90\u001b[0m, in \u001b[0;36mWebElement.text\u001b[1;34m(self)\u001b[0m\n\u001b[0;32m     87\u001b[0m \u001b[38;5;129m@property\u001b[39m\n\u001b[0;32m     88\u001b[0m \u001b[38;5;28;01mdef\u001b[39;00m \u001b[38;5;21mtext\u001b[39m(\u001b[38;5;28mself\u001b[39m) \u001b[38;5;241m-\u001b[39m\u001b[38;5;241m>\u001b[39m \u001b[38;5;28mstr\u001b[39m:\n\u001b[0;32m     89\u001b[0m \u001b[38;5;250m    \u001b[39m\u001b[38;5;124;03m\"\"\"The text of the element.\"\"\"\u001b[39;00m\n\u001b[1;32m---> 90\u001b[0m     \u001b[38;5;28;01mreturn\u001b[39;00m \u001b[38;5;28mself\u001b[39m\u001b[38;5;241m.\u001b[39m_execute(Command\u001b[38;5;241m.\u001b[39mGET_ELEMENT_TEXT)[\u001b[38;5;124m\"\u001b[39m\u001b[38;5;124mvalue\u001b[39m\u001b[38;5;124m\"\u001b[39m]\n",
      "File \u001b[1;32m~\\anaconda3\\Lib\\site-packages\\selenium\\webdriver\\remote\\webelement.py:395\u001b[0m, in \u001b[0;36mWebElement._execute\u001b[1;34m(self, command, params)\u001b[0m\n\u001b[0;32m    393\u001b[0m     params \u001b[38;5;241m=\u001b[39m {}\n\u001b[0;32m    394\u001b[0m params[\u001b[38;5;124m\"\u001b[39m\u001b[38;5;124mid\u001b[39m\u001b[38;5;124m\"\u001b[39m] \u001b[38;5;241m=\u001b[39m \u001b[38;5;28mself\u001b[39m\u001b[38;5;241m.\u001b[39m_id\n\u001b[1;32m--> 395\u001b[0m \u001b[38;5;28;01mreturn\u001b[39;00m \u001b[38;5;28mself\u001b[39m\u001b[38;5;241m.\u001b[39m_parent\u001b[38;5;241m.\u001b[39mexecute(command, params)\n",
      "File \u001b[1;32m~\\anaconda3\\Lib\\site-packages\\selenium\\webdriver\\remote\\webdriver.py:347\u001b[0m, in \u001b[0;36mWebDriver.execute\u001b[1;34m(self, driver_command, params)\u001b[0m\n\u001b[0;32m    345\u001b[0m response \u001b[38;5;241m=\u001b[39m \u001b[38;5;28mself\u001b[39m\u001b[38;5;241m.\u001b[39mcommand_executor\u001b[38;5;241m.\u001b[39mexecute(driver_command, params)\n\u001b[0;32m    346\u001b[0m \u001b[38;5;28;01mif\u001b[39;00m response:\n\u001b[1;32m--> 347\u001b[0m     \u001b[38;5;28mself\u001b[39m\u001b[38;5;241m.\u001b[39merror_handler\u001b[38;5;241m.\u001b[39mcheck_response(response)\n\u001b[0;32m    348\u001b[0m     response[\u001b[38;5;124m\"\u001b[39m\u001b[38;5;124mvalue\u001b[39m\u001b[38;5;124m\"\u001b[39m] \u001b[38;5;241m=\u001b[39m \u001b[38;5;28mself\u001b[39m\u001b[38;5;241m.\u001b[39m_unwrap_value(response\u001b[38;5;241m.\u001b[39mget(\u001b[38;5;124m\"\u001b[39m\u001b[38;5;124mvalue\u001b[39m\u001b[38;5;124m\"\u001b[39m, \u001b[38;5;28;01mNone\u001b[39;00m))\n\u001b[0;32m    349\u001b[0m     \u001b[38;5;28;01mreturn\u001b[39;00m response\n",
      "File \u001b[1;32m~\\anaconda3\\Lib\\site-packages\\selenium\\webdriver\\remote\\errorhandler.py:229\u001b[0m, in \u001b[0;36mErrorHandler.check_response\u001b[1;34m(self, response)\u001b[0m\n\u001b[0;32m    227\u001b[0m         alert_text \u001b[38;5;241m=\u001b[39m value[\u001b[38;5;124m\"\u001b[39m\u001b[38;5;124malert\u001b[39m\u001b[38;5;124m\"\u001b[39m]\u001b[38;5;241m.\u001b[39mget(\u001b[38;5;124m\"\u001b[39m\u001b[38;5;124mtext\u001b[39m\u001b[38;5;124m\"\u001b[39m)\n\u001b[0;32m    228\u001b[0m     \u001b[38;5;28;01mraise\u001b[39;00m exception_class(message, screen, stacktrace, alert_text)  \u001b[38;5;66;03m# type: ignore[call-arg]  # mypy is not smart enough here\u001b[39;00m\n\u001b[1;32m--> 229\u001b[0m \u001b[38;5;28;01mraise\u001b[39;00m exception_class(message, screen, stacktrace)\n",
      "\u001b[1;31mStaleElementReferenceException\u001b[0m: Message: stale element reference: stale element not found\n  (Session info: chrome=122.0.6261.95); For documentation on this error, please visit: https://www.selenium.dev/documentation/webdriver/troubleshooting/errors#stale-element-reference-exception\nStacktrace:\n\tGetHandleVerifier [0x00007FF6DD72AD22+56930]\n\t(No symbol) [0x00007FF6DD69F622]\n\t(No symbol) [0x00007FF6DD5542E5]\n\t(No symbol) [0x00007FF6DD559261]\n\t(No symbol) [0x00007FF6DD55B6EB]\n\t(No symbol) [0x00007FF6DD55B7B0]\n\t(No symbol) [0x00007FF6DD594D9B]\n\t(No symbol) [0x00007FF6DD5BBC9A]\n\t(No symbol) [0x00007FF6DD58F09A]\n\t(No symbol) [0x00007FF6DD5BBEB0]\n\t(No symbol) [0x00007FF6DD5D81E2]\n\t(No symbol) [0x00007FF6DD5BBA43]\n\t(No symbol) [0x00007FF6DD58D438]\n\t(No symbol) [0x00007FF6DD58E4D1]\n\tGetHandleVerifier [0x00007FF6DDAA6AAD+3709933]\n\tGetHandleVerifier [0x00007FF6DDAFFFED+4075821]\n\tGetHandleVerifier [0x00007FF6DDAF817F+4043455]\n\tGetHandleVerifier [0x00007FF6DD7C9756+706710]\n\t(No symbol) [0x00007FF6DD6AB8FF]\n\t(No symbol) [0x00007FF6DD6A6AE4]\n\t(No symbol) [0x00007FF6DD6A6C3C]\n\t(No symbol) [0x00007FF6DD6968F4]\n\tBaseThreadInitThunk [0x00007FFFC02D257D+29]\n\tRtlUserThreadStart [0x00007FFFC0A6AA58+40]\n"
     ]
    }
   ],
   "source": [
    "start=0\n",
    "end=3\n",
    "for page in range(start,end):\n",
    "    producttag=driver.find_elements(By.XPATH,\"//a[@class='IRpwTa']\")\n",
    "    for i in producttag:\n",
    "        productdescription.append(i.text)\n",
    "    next_button=driver.find_element(By.XPATH,\"/html/body/div/div/div[3]/div[1]/div[2]/div[12]/div/div/nav/a[11]\")\n",
    "    next_button.click()"
   ]
  },
  {
   "cell_type": "code",
   "execution_count": 64,
   "id": "067bde95",
   "metadata": {},
   "outputs": [],
   "source": [
    "\n",
    "newproduct=productdescription[0:100]"
   ]
  },
  {
   "cell_type": "code",
   "execution_count": 40,
   "id": "86e819e4",
   "metadata": {},
   "outputs": [],
   "source": [
    "price=[]"
   ]
  },
  {
   "cell_type": "code",
   "execution_count": 51,
   "id": "f25e48a4",
   "metadata": {},
   "outputs": [
    {
     "ename": "StaleElementReferenceException",
     "evalue": "Message: stale element reference: stale element not found\n  (Session info: chrome=122.0.6261.95); For documentation on this error, please visit: https://www.selenium.dev/documentation/webdriver/troubleshooting/errors#stale-element-reference-exception\nStacktrace:\n\tGetHandleVerifier [0x00007FF6DD72AD22+56930]\n\t(No symbol) [0x00007FF6DD69F622]\n\t(No symbol) [0x00007FF6DD5542E5]\n\t(No symbol) [0x00007FF6DD559261]\n\t(No symbol) [0x00007FF6DD55B6EB]\n\t(No symbol) [0x00007FF6DD55B7B0]\n\t(No symbol) [0x00007FF6DD594D9B]\n\t(No symbol) [0x00007FF6DD5BBC9A]\n\t(No symbol) [0x00007FF6DD58F09A]\n\t(No symbol) [0x00007FF6DD5BBEB0]\n\t(No symbol) [0x00007FF6DD5D81E2]\n\t(No symbol) [0x00007FF6DD5BBA43]\n\t(No symbol) [0x00007FF6DD58D438]\n\t(No symbol) [0x00007FF6DD58E4D1]\n\tGetHandleVerifier [0x00007FF6DDAA6AAD+3709933]\n\tGetHandleVerifier [0x00007FF6DDAFFFED+4075821]\n\tGetHandleVerifier [0x00007FF6DDAF817F+4043455]\n\tGetHandleVerifier [0x00007FF6DD7C9756+706710]\n\t(No symbol) [0x00007FF6DD6AB8FF]\n\t(No symbol) [0x00007FF6DD6A6AE4]\n\t(No symbol) [0x00007FF6DD6A6C3C]\n\t(No symbol) [0x00007FF6DD6968F4]\n\tBaseThreadInitThunk [0x00007FFFC02D257D+29]\n\tRtlUserThreadStart [0x00007FFFC0A6AA58+40]\n",
     "output_type": "error",
     "traceback": [
      "\u001b[1;31m---------------------------------------------------------------------------\u001b[0m",
      "\u001b[1;31mStaleElementReferenceException\u001b[0m            Traceback (most recent call last)",
      "Cell \u001b[1;32mIn[51], line 6\u001b[0m\n\u001b[0;32m      4\u001b[0m pricetag\u001b[38;5;241m=\u001b[39mdriver\u001b[38;5;241m.\u001b[39mfind_elements(By\u001b[38;5;241m.\u001b[39mXPATH,\u001b[38;5;124m\"\u001b[39m\u001b[38;5;124m//div[@class=\u001b[39m\u001b[38;5;124m'\u001b[39m\u001b[38;5;124m_30jeq3\u001b[39m\u001b[38;5;124m'\u001b[39m\u001b[38;5;124m]\u001b[39m\u001b[38;5;124m\"\u001b[39m)\n\u001b[0;32m      5\u001b[0m \u001b[38;5;28;01mfor\u001b[39;00m i \u001b[38;5;129;01min\u001b[39;00m pricetag:\n\u001b[1;32m----> 6\u001b[0m     price\u001b[38;5;241m.\u001b[39mappend(i\u001b[38;5;241m.\u001b[39mtext)\n\u001b[0;32m      7\u001b[0m next_button\u001b[38;5;241m=\u001b[39mdriver\u001b[38;5;241m.\u001b[39mfind_element(By\u001b[38;5;241m.\u001b[39mXPATH,\u001b[38;5;124m\"\u001b[39m\u001b[38;5;124m/html/body/div/div/div[3]/div[1]/div[2]/div[12]/div/div/nav/a[11]\u001b[39m\u001b[38;5;124m\"\u001b[39m)\n\u001b[0;32m      8\u001b[0m next_button\u001b[38;5;241m.\u001b[39mclick()\n",
      "File \u001b[1;32m~\\anaconda3\\Lib\\site-packages\\selenium\\webdriver\\remote\\webelement.py:90\u001b[0m, in \u001b[0;36mWebElement.text\u001b[1;34m(self)\u001b[0m\n\u001b[0;32m     87\u001b[0m \u001b[38;5;129m@property\u001b[39m\n\u001b[0;32m     88\u001b[0m \u001b[38;5;28;01mdef\u001b[39;00m \u001b[38;5;21mtext\u001b[39m(\u001b[38;5;28mself\u001b[39m) \u001b[38;5;241m-\u001b[39m\u001b[38;5;241m>\u001b[39m \u001b[38;5;28mstr\u001b[39m:\n\u001b[0;32m     89\u001b[0m \u001b[38;5;250m    \u001b[39m\u001b[38;5;124;03m\"\"\"The text of the element.\"\"\"\u001b[39;00m\n\u001b[1;32m---> 90\u001b[0m     \u001b[38;5;28;01mreturn\u001b[39;00m \u001b[38;5;28mself\u001b[39m\u001b[38;5;241m.\u001b[39m_execute(Command\u001b[38;5;241m.\u001b[39mGET_ELEMENT_TEXT)[\u001b[38;5;124m\"\u001b[39m\u001b[38;5;124mvalue\u001b[39m\u001b[38;5;124m\"\u001b[39m]\n",
      "File \u001b[1;32m~\\anaconda3\\Lib\\site-packages\\selenium\\webdriver\\remote\\webelement.py:395\u001b[0m, in \u001b[0;36mWebElement._execute\u001b[1;34m(self, command, params)\u001b[0m\n\u001b[0;32m    393\u001b[0m     params \u001b[38;5;241m=\u001b[39m {}\n\u001b[0;32m    394\u001b[0m params[\u001b[38;5;124m\"\u001b[39m\u001b[38;5;124mid\u001b[39m\u001b[38;5;124m\"\u001b[39m] \u001b[38;5;241m=\u001b[39m \u001b[38;5;28mself\u001b[39m\u001b[38;5;241m.\u001b[39m_id\n\u001b[1;32m--> 395\u001b[0m \u001b[38;5;28;01mreturn\u001b[39;00m \u001b[38;5;28mself\u001b[39m\u001b[38;5;241m.\u001b[39m_parent\u001b[38;5;241m.\u001b[39mexecute(command, params)\n",
      "File \u001b[1;32m~\\anaconda3\\Lib\\site-packages\\selenium\\webdriver\\remote\\webdriver.py:347\u001b[0m, in \u001b[0;36mWebDriver.execute\u001b[1;34m(self, driver_command, params)\u001b[0m\n\u001b[0;32m    345\u001b[0m response \u001b[38;5;241m=\u001b[39m \u001b[38;5;28mself\u001b[39m\u001b[38;5;241m.\u001b[39mcommand_executor\u001b[38;5;241m.\u001b[39mexecute(driver_command, params)\n\u001b[0;32m    346\u001b[0m \u001b[38;5;28;01mif\u001b[39;00m response:\n\u001b[1;32m--> 347\u001b[0m     \u001b[38;5;28mself\u001b[39m\u001b[38;5;241m.\u001b[39merror_handler\u001b[38;5;241m.\u001b[39mcheck_response(response)\n\u001b[0;32m    348\u001b[0m     response[\u001b[38;5;124m\"\u001b[39m\u001b[38;5;124mvalue\u001b[39m\u001b[38;5;124m\"\u001b[39m] \u001b[38;5;241m=\u001b[39m \u001b[38;5;28mself\u001b[39m\u001b[38;5;241m.\u001b[39m_unwrap_value(response\u001b[38;5;241m.\u001b[39mget(\u001b[38;5;124m\"\u001b[39m\u001b[38;5;124mvalue\u001b[39m\u001b[38;5;124m\"\u001b[39m, \u001b[38;5;28;01mNone\u001b[39;00m))\n\u001b[0;32m    349\u001b[0m     \u001b[38;5;28;01mreturn\u001b[39;00m response\n",
      "File \u001b[1;32m~\\anaconda3\\Lib\\site-packages\\selenium\\webdriver\\remote\\errorhandler.py:229\u001b[0m, in \u001b[0;36mErrorHandler.check_response\u001b[1;34m(self, response)\u001b[0m\n\u001b[0;32m    227\u001b[0m         alert_text \u001b[38;5;241m=\u001b[39m value[\u001b[38;5;124m\"\u001b[39m\u001b[38;5;124malert\u001b[39m\u001b[38;5;124m\"\u001b[39m]\u001b[38;5;241m.\u001b[39mget(\u001b[38;5;124m\"\u001b[39m\u001b[38;5;124mtext\u001b[39m\u001b[38;5;124m\"\u001b[39m)\n\u001b[0;32m    228\u001b[0m     \u001b[38;5;28;01mraise\u001b[39;00m exception_class(message, screen, stacktrace, alert_text)  \u001b[38;5;66;03m# type: ignore[call-arg]  # mypy is not smart enough here\u001b[39;00m\n\u001b[1;32m--> 229\u001b[0m \u001b[38;5;28;01mraise\u001b[39;00m exception_class(message, screen, stacktrace)\n",
      "\u001b[1;31mStaleElementReferenceException\u001b[0m: Message: stale element reference: stale element not found\n  (Session info: chrome=122.0.6261.95); For documentation on this error, please visit: https://www.selenium.dev/documentation/webdriver/troubleshooting/errors#stale-element-reference-exception\nStacktrace:\n\tGetHandleVerifier [0x00007FF6DD72AD22+56930]\n\t(No symbol) [0x00007FF6DD69F622]\n\t(No symbol) [0x00007FF6DD5542E5]\n\t(No symbol) [0x00007FF6DD559261]\n\t(No symbol) [0x00007FF6DD55B6EB]\n\t(No symbol) [0x00007FF6DD55B7B0]\n\t(No symbol) [0x00007FF6DD594D9B]\n\t(No symbol) [0x00007FF6DD5BBC9A]\n\t(No symbol) [0x00007FF6DD58F09A]\n\t(No symbol) [0x00007FF6DD5BBEB0]\n\t(No symbol) [0x00007FF6DD5D81E2]\n\t(No symbol) [0x00007FF6DD5BBA43]\n\t(No symbol) [0x00007FF6DD58D438]\n\t(No symbol) [0x00007FF6DD58E4D1]\n\tGetHandleVerifier [0x00007FF6DDAA6AAD+3709933]\n\tGetHandleVerifier [0x00007FF6DDAFFFED+4075821]\n\tGetHandleVerifier [0x00007FF6DDAF817F+4043455]\n\tGetHandleVerifier [0x00007FF6DD7C9756+706710]\n\t(No symbol) [0x00007FF6DD6AB8FF]\n\t(No symbol) [0x00007FF6DD6A6AE4]\n\t(No symbol) [0x00007FF6DD6A6C3C]\n\t(No symbol) [0x00007FF6DD6968F4]\n\tBaseThreadInitThunk [0x00007FFFC02D257D+29]\n\tRtlUserThreadStart [0x00007FFFC0A6AA58+40]\n"
     ]
    }
   ],
   "source": [
    "start=0\n",
    "end=3\n",
    "for page in range(start,end):\n",
    "    pricetag=driver.find_elements(By.XPATH,\"//div[@class='_30jeq3']\")\n",
    "    for i in pricetag:\n",
    "        price.append(i.text)\n",
    "    next_button=driver.find_element(By.XPATH,\"/html/body/div/div/div[3]/div[1]/div[2]/div[12]/div/div/nav/a[11]\")\n",
    "    next_button.click()"
   ]
  },
  {
   "cell_type": "code",
   "execution_count": 60,
   "id": "fc365cd1",
   "metadata": {},
   "outputs": [],
   "source": [
    "\n",
    "newprice=price[0:100]"
   ]
  },
  {
   "cell_type": "code",
   "execution_count": 65,
   "id": "0beec52e",
   "metadata": {},
   "outputs": [
    {
     "name": "stdout",
     "output_type": "stream",
     "text": [
      "100 100 100\n"
     ]
    }
   ],
   "source": [
    "print(len(newprice),len(newproduct),len(newbrand))\n"
   ]
  },
  {
   "cell_type": "code",
   "execution_count": 67,
   "id": "6ea4ad66",
   "metadata": {},
   "outputs": [
    {
     "data": {
      "text/html": [
       "<div>\n",
       "<style scoped>\n",
       "    .dataframe tbody tr th:only-of-type {\n",
       "        vertical-align: middle;\n",
       "    }\n",
       "\n",
       "    .dataframe tbody tr th {\n",
       "        vertical-align: top;\n",
       "    }\n",
       "\n",
       "    .dataframe thead th {\n",
       "        text-align: right;\n",
       "    }\n",
       "</style>\n",
       "<table border=\"1\" class=\"dataframe\">\n",
       "  <thead>\n",
       "    <tr style=\"text-align: right;\">\n",
       "      <th></th>\n",
       "      <th>Brand</th>\n",
       "      <th>Product Description</th>\n",
       "      <th>Price</th>\n",
       "    </tr>\n",
       "  </thead>\n",
       "  <tbody>\n",
       "    <tr>\n",
       "      <th>0</th>\n",
       "      <td>VINCENT CHASE</td>\n",
       "      <td>UV Protection Rectangular Sunglasses (46)</td>\n",
       "      <td>₹499</td>\n",
       "    </tr>\n",
       "    <tr>\n",
       "      <th>1</th>\n",
       "      <td>Hooper</td>\n",
       "      <td>by Lenskart UV Protection Wayfarer Sunglasses ...</td>\n",
       "      <td>₹699</td>\n",
       "    </tr>\n",
       "    <tr>\n",
       "      <th>2</th>\n",
       "      <td>Fastrack</td>\n",
       "      <td>UV Protection Wayfarer Sunglasses (58)</td>\n",
       "      <td>₹499</td>\n",
       "    </tr>\n",
       "    <tr>\n",
       "      <th>3</th>\n",
       "      <td>SRPM</td>\n",
       "      <td>UV Protection, Mirrored Wayfarer Sunglasses (52)</td>\n",
       "      <td>₹169</td>\n",
       "    </tr>\n",
       "    <tr>\n",
       "      <th>4</th>\n",
       "      <td>Elligator</td>\n",
       "      <td>UV Protection Rectangular Sunglasses (Free Size)</td>\n",
       "      <td>₹169</td>\n",
       "    </tr>\n",
       "    <tr>\n",
       "      <th>...</th>\n",
       "      <td>...</td>\n",
       "      <td>...</td>\n",
       "      <td>...</td>\n",
       "    </tr>\n",
       "    <tr>\n",
       "      <th>95</th>\n",
       "      <td>Nicole Miller</td>\n",
       "      <td>UV Protection Round Sunglasses (48)</td>\n",
       "      <td>₹580</td>\n",
       "    </tr>\n",
       "    <tr>\n",
       "      <th>96</th>\n",
       "      <td>PIRASO</td>\n",
       "      <td>Polarized, UV Protection Aviator Sunglasses (56)</td>\n",
       "      <td>₹664</td>\n",
       "    </tr>\n",
       "    <tr>\n",
       "      <th>97</th>\n",
       "      <td>ROZZETTA CRAFT</td>\n",
       "      <td>Toughened Glass Lens, UV Protection Wayfarer, ...</td>\n",
       "      <td>₹560</td>\n",
       "    </tr>\n",
       "    <tr>\n",
       "      <th>98</th>\n",
       "      <td>VINCENT CHASE</td>\n",
       "      <td>Gradient Round Sunglasses (Free Size)</td>\n",
       "      <td>₹625</td>\n",
       "    </tr>\n",
       "    <tr>\n",
       "      <th>99</th>\n",
       "      <td>Royaltail</td>\n",
       "      <td>Polarized Butterfly Sunglasses (64)</td>\n",
       "      <td>₹4,399</td>\n",
       "    </tr>\n",
       "  </tbody>\n",
       "</table>\n",
       "<p>100 rows × 3 columns</p>\n",
       "</div>"
      ],
      "text/plain": [
       "             Brand                                Product Description   Price\n",
       "0    VINCENT CHASE          UV Protection Rectangular Sunglasses (46)    ₹499\n",
       "1           Hooper  by Lenskart UV Protection Wayfarer Sunglasses ...    ₹699\n",
       "2         Fastrack             UV Protection Wayfarer Sunglasses (58)    ₹499\n",
       "3             SRPM   UV Protection, Mirrored Wayfarer Sunglasses (52)    ₹169\n",
       "4        Elligator   UV Protection Rectangular Sunglasses (Free Size)    ₹169\n",
       "..             ...                                                ...     ...\n",
       "95   Nicole Miller                UV Protection Round Sunglasses (48)    ₹580\n",
       "96          PIRASO   Polarized, UV Protection Aviator Sunglasses (56)    ₹664\n",
       "97  ROZZETTA CRAFT  Toughened Glass Lens, UV Protection Wayfarer, ...    ₹560\n",
       "98   VINCENT CHASE              Gradient Round Sunglasses (Free Size)    ₹625\n",
       "99       Royaltail                Polarized Butterfly Sunglasses (64)  ₹4,399\n",
       "\n",
       "[100 rows x 3 columns]"
      ]
     },
     "execution_count": 67,
     "metadata": {},
     "output_type": "execute_result"
    }
   ],
   "source": [
    "df=pd.DataFrame({'Brand':newbrand,'Product Description':newproduct,'Price':newprice})\n",
    "df"
   ]
  },
  {
   "cell_type": "code",
   "execution_count": null,
   "id": "ebeacd9a",
   "metadata": {},
   "outputs": [],
   "source": []
  }
 ],
 "metadata": {
  "kernelspec": {
   "display_name": "Python 3 (ipykernel)",
   "language": "python",
   "name": "python3"
  },
  "language_info": {
   "codemirror_mode": {
    "name": "ipython",
    "version": 3
   },
   "file_extension": ".py",
   "mimetype": "text/x-python",
   "name": "python",
   "nbconvert_exporter": "python",
   "pygments_lexer": "ipython3",
   "version": "3.11.4"
  }
 },
 "nbformat": 4,
 "nbformat_minor": 5
}
